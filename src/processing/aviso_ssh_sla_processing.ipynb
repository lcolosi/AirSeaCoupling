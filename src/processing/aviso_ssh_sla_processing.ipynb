{
 "cells": [
  {
   "cell_type": "markdown",
   "metadata": {},
   "source": [
    "# AVISO Data Processing - Converting file format to netcdf\n",
    "\n",
    "**Purpose**: Code for converting the mat files into netcdf format\n",
    "\n",
    "**Luke Colosi | lcolosi@ucsd.edu**"
   ]
  },
  {
   "cell_type": "markdown",
   "metadata": {},
   "source": [
    "Import libraries"
   ]
  },
  {
   "cell_type": "code",
   "execution_count": 12,
   "metadata": {},
   "outputs": [],
   "source": [
    "import xarray as xr\n",
    "import h5py\n",
    "import numpy as np\n",
    "import os"
   ]
  },
  {
   "cell_type": "markdown",
   "metadata": {},
   "source": [
    "Set the path to aviso data set"
   ]
  },
  {
   "cell_type": "code",
   "execution_count": 13,
   "metadata": {},
   "outputs": [],
   "source": [
    "PATH = '/Users/lukecolosi/Desktop/projects/graduate_research/Gille_lab/AirSeaCoupling/data/aviso/'\n",
    "file_ssh = 'aviso_tot_MADT_nrt_ccs.mat' # Sea Surface Height\n",
    "file_sla = 'aviso_tot_MSLA_nrt_ccs.mat' # Mean Sea Level Anomaly "
   ]
  },
  {
   "cell_type": "markdown",
   "metadata": {},
   "source": [
    "Convert .mat file into a netcdf using xarray"
   ]
  },
  {
   "cell_type": "code",
   "execution_count": 14,
   "metadata": {},
   "outputs": [],
   "source": [
    "# Open ssh and sla files \n",
    "fssh = h5py.File(PATH + file_ssh, \"r\")\n",
    "fsla = h5py.File(PATH + file_sla, \"r\")\n",
    "\n",
    "# Grab variables names\n",
    "vars_ssh = [key for key in fssh.keys()]\n",
    "vars_sla = [key for key in fsla.keys()]\n",
    "\n",
    "# # Assign variables\n",
    "\n",
    "#--- SSH ---# \n",
    "ssh      = fssh[vars_ssh[0]][()]\n",
    "time_ssh = fssh[vars_ssh[1]][()]\n",
    "lon_ssh  = fssh[vars_ssh[2]][()]\n",
    "lat_ssh  = fssh[vars_ssh[3]][()]\n",
    "\n",
    "#--- SLA ---# \n",
    "sla      = fsla[vars_sla[0]][()]\n",
    "time_sla = fsla[vars_sla[1]][()]\n",
    "lon_sla  = fsla[vars_sla[2]][()]\n",
    "lat_sla  = fsla[vars_sla[3]][()]\n",
    "\n",
    "# Save variables in data arrays\n",
    "\n",
    "#--- SSH ---# \n",
    "SSH = xr.DataArray(data=np.array(ssh), \n",
    "                    dims=['lon','lat','time'],\n",
    "                    coords=dict(\n",
    "                        lon=np.squeeze(lon_ssh),\n",
    "                        lat=np.squeeze(lat_ssh),\n",
    "                        time=np.squeeze(time_ssh),\n",
    "                        ),\n",
    "                    attrs=dict(\n",
    "                        description='Mean sea surface height from AVSIO Satellite Product.',\n",
    "                        units='m'\n",
    "                        )\n",
    ")\n",
    "\n",
    "#--- SLA ---# \n",
    "SLA = xr.DataArray(data=np.array(sla), \n",
    "                       dims=['lon','lat','time'],\n",
    "                       coords=dict(\n",
    "                        lon=np.squeeze(lon_sla),\n",
    "                        lat=np.squeeze(lat_sla),\n",
    "                        time=np.squeeze(time_sla),\n",
    "                        ),\n",
    "                       attrs=dict(\n",
    "                           description='Mean sea level anomaly from AVSIO Satellite Product.',\n",
    "                           units='m'\n",
    "                    )\n",
    ")\n",
    "\n",
    "# Create a data set from data arrays \n",
    "data = xr.Dataset({'SSH':SSH, 'SLA':SLA})\n",
    "\n",
    "# Check if file exists, then delete it\n",
    "file_path = PATH + \"aviso_tot_nrt_ccs.nc\"\n",
    "if os.path.exists(file_path):\n",
    "    os.remove(file_path)\n",
    "\n",
    "# Create netcdf file\n",
    "data.to_netcdf(file_path,mode='w')\n"
   ]
  }
 ],
 "metadata": {
  "kernelspec": {
   "display_name": "airsea_coupling",
   "language": "python",
   "name": "python3"
  },
  "language_info": {
   "codemirror_mode": {
    "name": "ipython",
    "version": 3
   },
   "file_extension": ".py",
   "mimetype": "text/x-python",
   "name": "python",
   "nbconvert_exporter": "python",
   "pygments_lexer": "ipython3",
   "version": "3.12.2"
  }
 },
 "nbformat": 4,
 "nbformat_minor": 2
}
