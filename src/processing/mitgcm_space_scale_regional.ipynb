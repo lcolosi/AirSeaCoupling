{
 "cells": [
  {
   "cell_type": "markdown",
   "id": "5f010be5",
   "metadata": {},
   "source": [
    "# MITGCM Regional Spatial Scale Analysis \n",
    "\n",
    "**Purpose**: Code for preforming the regional spatial scale analysis. I will compute the decorrelation length scale for a subset of the model domain in the along- and across-isobath coordinate. \n",
    "\n",
    "**Luke Colosi | lcolosi@ucsd.edu**"
   ]
  },
  {
   "cell_type": "markdown",
   "id": "9668f343",
   "metadata": {},
   "source": [
    "Force matplotlib plots to display directly within the output cell of the notebook"
   ]
  },
  {
   "cell_type": "code",
   "execution_count": 1,
   "id": "00db249b",
   "metadata": {},
   "outputs": [],
   "source": [
    "%matplotlib inline"
   ]
  },
  {
   "cell_type": "markdown",
   "id": "dbf5e6ad",
   "metadata": {},
   "source": [
    "Import python libraries"
   ]
  },
  {
   "cell_type": "code",
   "execution_count": null,
   "id": "36c182ac",
   "metadata": {},
   "outputs": [],
   "source": [
    "import sys\n",
    "import xarray as xr\n",
    "import numpy as np\n",
    "import matplotlib.pyplot as plt \n",
    "from netCDF4 import Dataset, num2date\n",
    "from datetime import datetime\n",
    "import cartopy.crs as ccrs\n",
    "import cartopy.feature as cfeature\n",
    "import os\n",
    "import cmocean\n",
    "\n",
    "# Set path to access python functions\n",
    "sys.path.append(\"/home/lcolosi/AirSeaCoupling/tools/\")\n",
    "\n",
    "#--- Other Functions ---# \n",
    "import cartopy_figs as cart\n",
    "from autocorr import compute_autocorr, compute_decor_scale\n",
    "from spectra import spectrum1D_frequency\n",
    "from lsf import unweighted_lsf"
   ]
  },
  {
   "cell_type": "markdown",
   "id": "031ed6c1",
   "metadata": {},
   "source": [
    "Set data analysis parameters"
   ]
  },
  {
   "cell_type": "code",
   "execution_count": null,
   "id": "1f50aacc",
   "metadata": {},
   "outputs": [],
   "source": [
    "# Set processing parameters\n",
    "option_plot          = 0      # Specifies if supplementary plots are plotted\n",
    "option_var           = 'temp' # Specifies which variable will analyzed. Options include: temp, sal, density\n",
    "\n",
    "# Set time and space parameters\n",
    "T            = 1*(60)*(60)                   # Spcifies the time interval for model run. Units: seconds\n",
    "estimator    = 'biased'                      # Specifies the approach for estimating the autocorrelation function    \n",
    "lat_bnds     = [33, 35]                      # Specifies the latitude bounds for the region to analyze\n",
    "lon_bnds     = [-123 % 360, -120 % 360]      # Specifies the longitude bounds for the region to analyze\n",
    "\n",
    "# Set path to project directory\n",
    "PATH = \"/data/SO3/lcolosi/mitgcm/SWOT_MARA_RUN4_LY/\"\n",
    "PATH_figs = \"/home/lcolosi/AirSeaCoupling/figs_server/mitgcm/scale_analysis/\"\n",
    "PATH_bathy  = '/data/SO3/lcolosi/bathymetry/'\n",
    "\n",
    "# Set plotting parameters \n",
    "fontsize = 16"
   ]
  },
  {
   "cell_type": "markdown",
   "id": "7455a3c8",
   "metadata": {},
   "source": [
    "Load mitgcm data netcdf files "
   ]
  },
  {
   "cell_type": "code",
   "execution_count": null,
   "id": "111898ce",
   "metadata": {},
   "outputs": [],
   "source": [
    "#--- MITgcm Data ---# \n",
    "if option_var == 'temp':\n",
    "    filename = PATH + \"THETA_CCS4_hrly_ts_ext.nc\"\n",
    "elif option_var == 'sal':\n",
    "    filename = PATH + \"SALT_CCS4_hrly_ts_ext.nc\"\n",
    "elif option_var == 'density':\n",
    "    filename = PATH + \"RHO_CCS4_hrly_ts_ext.nc\"\n",
    "nc = Dataset(filename, 'r')\n",
    "\n",
    "# Extract data variables\n",
    "water_depth   = nc.variables['Depth'][:]\n",
    "\n",
    "lon = nc.variables['XC'][:]\n",
    "lat = nc.variables['YC'][:]\n",
    "time =  num2date(nc.variables['time'][:], nc.variables['time'].units)\n",
    "\n",
    "if option_var == 'temp':\n",
    "    data = nc.variables['THETA'][:]\n",
    "elif option_var == 'sal':\n",
    "    data = nc.variables['SALT'][:]\n",
    "elif option_var == 'density':\n",
    "    data = nc.variables['RHO'][:]\n",
    "\n",
    "# Convert cftime.DatetimeGregorian to Python datetime objects\n",
    "time_dt = np.array([datetime(d.year, d.month, d.day, d.hour, d.minute, d.second) for d in time])"
   ]
  }
 ],
 "metadata": {
  "kernelspec": {
   "display_name": "ccs_scale",
   "language": "python",
   "name": "python3"
  },
  "language_info": {
   "codemirror_mode": {
    "name": "ipython",
    "version": 3
   },
   "file_extension": ".py",
   "mimetype": "text/x-python",
   "name": "python",
   "nbconvert_exporter": "python",
   "pygments_lexer": "ipython3",
   "version": "3.12.9"
  }
 },
 "nbformat": 4,
 "nbformat_minor": 5
}
